{
 "cells": [
  {
   "cell_type": "markdown",
   "id": "636f5582",
   "metadata": {},
   "source": [
    "# **DATA PREPROCESSING**"
   ]
  },
  {
   "cell_type": "markdown",
   "id": "1f9cf8c2",
   "metadata": {},
   "source": [
    "# *Import the Libraries*"
   ]
  },
  {
   "cell_type": "code",
   "execution_count": 1,
   "id": "47de402d",
   "metadata": {},
   "outputs": [],
   "source": [
    "import pandas as pd\n",
    "import numpy as np\n",
    "import matplotlib.pyplot as plt"
   ]
  },
  {
   "cell_type": "markdown",
   "id": "c762782f",
   "metadata": {},
   "source": [
    "# *Importing the Dataset*"
   ]
  },
  {
   "cell_type": "code",
   "execution_count": 2,
   "id": "d4fbc2af",
   "metadata": {},
   "outputs": [],
   "source": [
    "data=pd.read_excel(r\"D:\\Crude Oil Prices Daily.xlsx\")"
   ]
  },
  {
   "cell_type": "markdown",
   "id": "032692f5",
   "metadata": {},
   "source": [
    "# *Analyze the Data*"
   ]
  },
  {
   "cell_type": "code",
   "execution_count": 3,
   "id": "1da77078",
   "metadata": {},
   "outputs": [
    {
     "data": {
      "text/html": [
       "<div>\n",
       "<style scoped>\n",
       "    .dataframe tbody tr th:only-of-type {\n",
       "        vertical-align: middle;\n",
       "    }\n",
       "\n",
       "    .dataframe tbody tr th {\n",
       "        vertical-align: top;\n",
       "    }\n",
       "\n",
       "    .dataframe thead th {\n",
       "        text-align: right;\n",
       "    }\n",
       "</style>\n",
       "<table border=\"1\" class=\"dataframe\">\n",
       "  <thead>\n",
       "    <tr style=\"text-align: right;\">\n",
       "      <th></th>\n",
       "      <th>Date</th>\n",
       "      <th>Closing Value</th>\n",
       "    </tr>\n",
       "  </thead>\n",
       "  <tbody>\n",
       "    <tr>\n",
       "      <th>0</th>\n",
       "      <td>1986-01-02</td>\n",
       "      <td>25.56</td>\n",
       "    </tr>\n",
       "    <tr>\n",
       "      <th>1</th>\n",
       "      <td>1986-01-03</td>\n",
       "      <td>26.00</td>\n",
       "    </tr>\n",
       "    <tr>\n",
       "      <th>2</th>\n",
       "      <td>1986-01-06</td>\n",
       "      <td>26.53</td>\n",
       "    </tr>\n",
       "    <tr>\n",
       "      <th>3</th>\n",
       "      <td>1986-01-07</td>\n",
       "      <td>25.85</td>\n",
       "    </tr>\n",
       "    <tr>\n",
       "      <th>4</th>\n",
       "      <td>1986-01-08</td>\n",
       "      <td>25.87</td>\n",
       "    </tr>\n",
       "  </tbody>\n",
       "</table>\n",
       "</div>"
      ],
      "text/plain": [
       "        Date  Closing Value\n",
       "0 1986-01-02          25.56\n",
       "1 1986-01-03          26.00\n",
       "2 1986-01-06          26.53\n",
       "3 1986-01-07          25.85\n",
       "4 1986-01-08          25.87"
      ]
     },
     "execution_count": 3,
     "metadata": {},
     "output_type": "execute_result"
    }
   ],
   "source": [
    "data.head()"
   ]
  },
  {
   "cell_type": "code",
   "execution_count": 4,
   "id": "57fadb63",
   "metadata": {},
   "outputs": [
    {
     "data": {
      "text/html": [
       "<div>\n",
       "<style scoped>\n",
       "    .dataframe tbody tr th:only-of-type {\n",
       "        vertical-align: middle;\n",
       "    }\n",
       "\n",
       "    .dataframe tbody tr th {\n",
       "        vertical-align: top;\n",
       "    }\n",
       "\n",
       "    .dataframe thead th {\n",
       "        text-align: right;\n",
       "    }\n",
       "</style>\n",
       "<table border=\"1\" class=\"dataframe\">\n",
       "  <thead>\n",
       "    <tr style=\"text-align: right;\">\n",
       "      <th></th>\n",
       "      <th>Date</th>\n",
       "      <th>Closing Value</th>\n",
       "    </tr>\n",
       "  </thead>\n",
       "  <tbody>\n",
       "    <tr>\n",
       "      <th>8218</th>\n",
       "      <td>2018-07-03</td>\n",
       "      <td>74.19</td>\n",
       "    </tr>\n",
       "    <tr>\n",
       "      <th>8219</th>\n",
       "      <td>2018-07-04</td>\n",
       "      <td>NaN</td>\n",
       "    </tr>\n",
       "    <tr>\n",
       "      <th>8220</th>\n",
       "      <td>2018-07-05</td>\n",
       "      <td>73.05</td>\n",
       "    </tr>\n",
       "    <tr>\n",
       "      <th>8221</th>\n",
       "      <td>2018-07-06</td>\n",
       "      <td>73.78</td>\n",
       "    </tr>\n",
       "    <tr>\n",
       "      <th>8222</th>\n",
       "      <td>2018-07-09</td>\n",
       "      <td>73.93</td>\n",
       "    </tr>\n",
       "  </tbody>\n",
       "</table>\n",
       "</div>"
      ],
      "text/plain": [
       "           Date  Closing Value\n",
       "8218 2018-07-03          74.19\n",
       "8219 2018-07-04            NaN\n",
       "8220 2018-07-05          73.05\n",
       "8221 2018-07-06          73.78\n",
       "8222 2018-07-09          73.93"
      ]
     },
     "execution_count": 4,
     "metadata": {},
     "output_type": "execute_result"
    }
   ],
   "source": [
    "data.tail()"
   ]
  },
  {
   "cell_type": "code",
   "execution_count": 5,
   "id": "d2a0c460",
   "metadata": {},
   "outputs": [
    {
     "data": {
      "text/html": [
       "<div>\n",
       "<style scoped>\n",
       "    .dataframe tbody tr th:only-of-type {\n",
       "        vertical-align: middle;\n",
       "    }\n",
       "\n",
       "    .dataframe tbody tr th {\n",
       "        vertical-align: top;\n",
       "    }\n",
       "\n",
       "    .dataframe thead th {\n",
       "        text-align: right;\n",
       "    }\n",
       "</style>\n",
       "<table border=\"1\" class=\"dataframe\">\n",
       "  <thead>\n",
       "    <tr style=\"text-align: right;\">\n",
       "      <th></th>\n",
       "      <th>Closing Value</th>\n",
       "    </tr>\n",
       "  </thead>\n",
       "  <tbody>\n",
       "    <tr>\n",
       "      <th>count</th>\n",
       "      <td>8216.000000</td>\n",
       "    </tr>\n",
       "    <tr>\n",
       "      <th>mean</th>\n",
       "      <td>43.492139</td>\n",
       "    </tr>\n",
       "    <tr>\n",
       "      <th>std</th>\n",
       "      <td>29.616804</td>\n",
       "    </tr>\n",
       "    <tr>\n",
       "      <th>min</th>\n",
       "      <td>10.250000</td>\n",
       "    </tr>\n",
       "    <tr>\n",
       "      <th>25%</th>\n",
       "      <td>19.577500</td>\n",
       "    </tr>\n",
       "    <tr>\n",
       "      <th>50%</th>\n",
       "      <td>29.610000</td>\n",
       "    </tr>\n",
       "    <tr>\n",
       "      <th>75%</th>\n",
       "      <td>63.402500</td>\n",
       "    </tr>\n",
       "    <tr>\n",
       "      <th>max</th>\n",
       "      <td>145.310000</td>\n",
       "    </tr>\n",
       "  </tbody>\n",
       "</table>\n",
       "</div>"
      ],
      "text/plain": [
       "       Closing Value\n",
       "count    8216.000000\n",
       "mean       43.492139\n",
       "std        29.616804\n",
       "min        10.250000\n",
       "25%        19.577500\n",
       "50%        29.610000\n",
       "75%        63.402500\n",
       "max       145.310000"
      ]
     },
     "execution_count": 5,
     "metadata": {},
     "output_type": "execute_result"
    }
   ],
   "source": [
    "data.describe()"
   ]
  },
  {
   "cell_type": "code",
   "execution_count": 6,
   "id": "a964fb1f",
   "metadata": {},
   "outputs": [
    {
     "name": "stdout",
     "output_type": "stream",
     "text": [
      "<class 'pandas.core.frame.DataFrame'>\n",
      "RangeIndex: 8223 entries, 0 to 8222\n",
      "Data columns (total 2 columns):\n",
      " #   Column         Non-Null Count  Dtype         \n",
      "---  ------         --------------  -----         \n",
      " 0   Date           8223 non-null   datetime64[ns]\n",
      " 1   Closing Value  8216 non-null   float64       \n",
      "dtypes: datetime64[ns](1), float64(1)\n",
      "memory usage: 128.6 KB\n"
     ]
    }
   ],
   "source": [
    "data.info()"
   ]
  },
  {
   "cell_type": "markdown",
   "id": "502fca34",
   "metadata": {},
   "source": [
    "# *Handling Missing Data*"
   ]
  },
  {
   "cell_type": "code",
   "execution_count": 7,
   "id": "2aa877b3",
   "metadata": {},
   "outputs": [
    {
     "data": {
      "text/plain": [
       "Date             False\n",
       "Closing Value     True\n",
       "dtype: bool"
      ]
     },
     "execution_count": 7,
     "metadata": {},
     "output_type": "execute_result"
    }
   ],
   "source": [
    "data.isnull().any()"
   ]
  },
  {
   "cell_type": "code",
   "execution_count": 8,
   "id": "704aa9d5",
   "metadata": {},
   "outputs": [
    {
     "data": {
      "text/plain": [
       "Date             0\n",
       "Closing Value    7\n",
       "dtype: int64"
      ]
     },
     "execution_count": 8,
     "metadata": {},
     "output_type": "execute_result"
    }
   ],
   "source": [
    "data.isnull().sum()"
   ]
  },
  {
   "cell_type": "code",
   "execution_count": 9,
   "id": "c1f0e89d",
   "metadata": {},
   "outputs": [],
   "source": [
    "data.dropna(axis=0,inplace = True)"
   ]
  },
  {
   "cell_type": "code",
   "execution_count": 10,
   "id": "a0aa4ba6",
   "metadata": {},
   "outputs": [
    {
     "data": {
      "text/plain": [
       "Date             0\n",
       "Closing Value    0\n",
       "dtype: int64"
      ]
     },
     "execution_count": 10,
     "metadata": {},
     "output_type": "execute_result"
    }
   ],
   "source": [
    "data.isnull().sum()"
   ]
  },
  {
   "cell_type": "code",
   "execution_count": 11,
   "id": "e35384ac",
   "metadata": {},
   "outputs": [],
   "source": [
    "data_oil=data.reset_index()['Closing Value']"
   ]
  },
  {
   "cell_type": "code",
   "execution_count": 12,
   "id": "ee799d0f",
   "metadata": {},
   "outputs": [
    {
     "data": {
      "text/plain": [
       "0       25.56\n",
       "1       26.00\n",
       "2       26.53\n",
       "3       25.85\n",
       "4       25.87\n",
       "        ...  \n",
       "8211    73.89\n",
       "8212    74.19\n",
       "8213    73.05\n",
       "8214    73.78\n",
       "8215    73.93\n",
       "Name: Closing Value, Length: 8216, dtype: float64"
      ]
     },
     "execution_count": 12,
     "metadata": {},
     "output_type": "execute_result"
    }
   ],
   "source": [
    "data_oil"
   ]
  },
  {
   "cell_type": "markdown",
   "id": "456106d7",
   "metadata": {},
   "source": [
    "# *Feature Scaling*"
   ]
  },
  {
   "cell_type": "code",
   "execution_count": 13,
   "id": "bf6218b4",
   "metadata": {},
   "outputs": [],
   "source": [
    "from sklearn.preprocessing import MinMaxScaler\n",
    "scaler=MinMaxScaler(feature_range=(0,1))\n",
    "data_oil=scaler.fit_transform(np.array(data_oil).reshape(-1,1))"
   ]
  },
  {
   "cell_type": "markdown",
   "id": "1228f4a6",
   "metadata": {},
   "source": [
    "# *Data Visualization*"
   ]
  },
  {
   "cell_type": "code",
   "execution_count": 14,
   "id": "791741e0",
   "metadata": {},
   "outputs": [
    {
     "data": {
      "text/plain": [
       "[<matplotlib.lines.Line2D at 0x18e8bc32830>]"
      ]
     },
     "execution_count": 14,
     "metadata": {},
     "output_type": "execute_result"
    },
    {
     "data": {
      "image/png": "[encoded data removed]",
      "text/plain": [
       "<Figure size 640x480 with 1 Axes>"
      ]
     },
     "metadata": {},
     "output_type": "display_data"
    }
   ],
   "source": [
    "plt.plot(data_oil)"
   ]
  },
  {
   "cell_type": "markdown",
   "id": "2fa60d34",
   "metadata": {},
   "source": [
    "# *Splitting Data Into Train And Test*"
   ]
  },
  {
   "cell_type": "code",
   "execution_count": 15,
   "id": "69539a75",
   "metadata": {},
   "outputs": [],
   "source": [
    "training_size=int(len(data_oil)*0.65)\n",
    "test_size=len(data_oil)-training_size\n",
    "train_data,test_data=data_oil[0:training_size,:],data_oil[training_size:len(data_oil),:1]"
   ]
  },
  {
   "cell_type": "code",
   "execution_count": 16,
   "id": "ff8c97d4",
   "metadata": {},
   "outputs": [
    {
     "data": {
      "text/plain": [
       "(5340, 2876)"
      ]
     },
     "execution_count": 16,
     "metadata": {},
     "output_type": "execute_result"
    }
   ],
   "source": [
    "training_size,test_size"
   ]
  },
  {
   "cell_type": "code",
   "execution_count": 17,
   "id": "db0368f1",
   "metadata": {},
   "outputs": [
    {
     "data": {
      "text/plain": [
       "(5340, 1)"
      ]
     },
     "execution_count": 17,
     "metadata": {},
     "output_type": "execute_result"
    }
   ],
   "source": [
    "train_data.shape"
   ]
  },
  {
   "cell_type": "markdown",
   "id": "13948878",
   "metadata": {},
   "source": [
    "# *Creating A Dataset With Sliding Windows*"
   ]
  },
  {
   "cell_type": "code",
   "execution_count": 18,
   "id": "c96ab3c6",
   "metadata": {},
   "outputs": [],
   "source": [
    "# convert an array of values into a dataset matrix\n",
    "def create_dataset (dataset, time_step=1):\n",
    "    dataX, dataY = [], []\n",
    "    for i in range(len(dataset)-time_step-1):\n",
    "        a = dataset[i:(i+time_step), 0] \n",
    "        dataX.append(a) \n",
    "        dataY.append(dataset[i + time_step, 0])\n",
    "    return np.array(dataX), np.array(dataY)"
   ]
  },
  {
   "cell_type": "code",
   "execution_count": 19,
   "id": "16f592b8",
   "metadata": {},
   "outputs": [],
   "source": [
    "# reshape into x=t,t+1,t+2,t+3 and Y=t+4\n",
    "time_step = 10\n",
    "x_train, y_train = create_dataset(train_data, time_step) \n",
    "x_test, ytest = create_dataset(test_data, time_step)"
   ]
  },
  {
   "cell_type": "code",
   "execution_count": 20,
   "id": "c1a4adb7",
   "metadata": {},
   "outputs": [
    {
     "name": "stdout",
     "output_type": "stream",
     "text": [
      "(5329, 10)\n",
      "(5329,)\n"
     ]
    },
    {
     "data": {
      "text/plain": [
       "(None, None)"
      ]
     },
     "execution_count": 20,
     "metadata": {},
     "output_type": "execute_result"
    }
   ],
   "source": [
    "print (x_train.shape), print(y_train.shape)"
   ]
  },
  {
   "cell_type": "code",
   "execution_count": 21,
   "id": "acb87098",
   "metadata": {},
   "outputs": [
    {
     "name": "stdout",
     "output_type": "stream",
     "text": [
      "(2865, 10)\n",
      "(2865,)\n"
     ]
    },
    {
     "data": {
      "text/plain": [
       "(None, None)"
      ]
     },
     "execution_count": 21,
     "metadata": {},
     "output_type": "execute_result"
    }
   ],
   "source": [
    "print (x_test.shape), print(ytest.shape)"
   ]
  },
  {
   "cell_type": "code",
   "execution_count": 22,
   "id": "e0150cb5",
   "metadata": {},
   "outputs": [
    {
     "data": {
      "text/plain": [
       "array([[0.11335703, 0.11661484, 0.12053902, ..., 0.10980305, 0.1089886 ,\n",
       "        0.11054346],\n",
       "       [0.11661484, 0.12053902, 0.11550422, ..., 0.1089886 , 0.11054346,\n",
       "        0.10165852],\n",
       "       [0.12053902, 0.11550422, 0.1156523 , ..., 0.11054346, 0.10165852,\n",
       "        0.09906708],\n",
       "       ...,\n",
       "       [0.36731823, 0.35176958, 0.36080261, ..., 0.36391234, 0.37042796,\n",
       "        0.37042796],\n",
       "       [0.35176958, 0.36080261, 0.35354657, ..., 0.37042796, 0.37042796,\n",
       "        0.37879461],\n",
       "       [0.36080261, 0.35354657, 0.35295424, ..., 0.37042796, 0.37879461,\n",
       "        0.37916482]])"
      ]
     },
     "execution_count": 22,
     "metadata": {},
     "output_type": "execute_result"
    }
   ],
   "source": [
    "x_train"
   ]
  },
  {
   "cell_type": "code",
   "execution_count": 23,
   "id": "4e5e0017",
   "metadata": {},
   "outputs": [],
   "source": [
    "x_train =x_train.reshape(x_train.shape[0],x_train.shape[1], 1)\n",
    "x_test =x_test.reshape(x_test.shape[0],x_test.shape[1], 1)"
   ]
  },
  {
   "cell_type": "markdown",
   "id": "97315c39",
   "metadata": {},
   "source": [
    "# MODEL BUILDING"
   ]
  },
  {
   "cell_type": "markdown",
   "id": "00222146",
   "metadata": {},
   "source": [
    "# *Importing The Model Building Libraries*"
   ]
  },
  {
   "cell_type": "code",
   "execution_count": 24,
   "id": "c8481f0c",
   "metadata": {},
   "outputs": [],
   "source": [
    "import tensorflow as tf\n",
    "import tensorflow_datasets as tfds\n",
    "from tensorflow.keras.models import Sequential"
   ]
  },
  {
   "cell_type": "markdown",
   "id": "600f0e5c",
   "metadata": {},
   "source": [
    "# *Initializing The Model*"
   ]
  },
  {
   "cell_type": "code",
   "execution_count": 25,
   "id": "c4585f41",
   "metadata": {},
   "outputs": [],
   "source": [
    "model = Sequential()"
   ]
  },
  {
   "cell_type": "markdown",
   "id": "fbc20805",
   "metadata": {},
   "source": [
    "# *Adding LSTM Layers*"
   ]
  },
  {
   "cell_type": "code",
   "execution_count": 26,
   "id": "bbb1df02",
   "metadata": {},
   "outputs": [],
   "source": [
    "from tensorflow.keras.layers import LSTM\n",
    "from tensorflow.keras.layers import Dense\n",
    "model.add(LSTM(50, return_sequences=True, input_shape=(10,1))) \n",
    "model.add(LSTM(50, return_sequences=True)) \n",
    "model.add(LSTM(50))"
   ]
  },
  {
   "cell_type": "markdown",
   "id": "e83f886f",
   "metadata": {},
   "source": [
    "# *Adding Output Layers*"
   ]
  },
  {
   "cell_type": "code",
   "execution_count": 27,
   "id": "8a3aeeaf",
   "metadata": {},
   "outputs": [],
   "source": [
    "model.add(Dense(1))"
   ]
  },
  {
   "cell_type": "code",
   "execution_count": 28,
   "id": "35d6ba49",
   "metadata": {},
   "outputs": [
    {
     "name": "stdout",
     "output_type": "stream",
     "text": [
      "Model: \"sequential\"\n",
      "_________________________________________________________________\n",
      " Layer (type)                Output Shape              Param #   \n",
      "=================================================================\n",
      " lstm (LSTM)                 (None, 10, 50)            10400     \n",
      "                                                                 \n",
      " lstm_1 (LSTM)               (None, 10, 50)            20200     \n",
      "                                                                 \n",
      " lstm_2 (LSTM)               (None, 50)                20200     \n",
      "                                                                 \n",
      " dense (Dense)               (None, 1)                 51        \n",
      "                                                                 \n",
      "=================================================================\n",
      "Total params: 50,851\n",
      "Trainable params: 50,851\n",
      "Non-trainable params: 0\n",
      "_________________________________________________________________\n"
     ]
    }
   ],
   "source": [
    "model.summary()"
   ]
  },
  {
   "cell_type": "markdown",
   "id": "131b5d12",
   "metadata": {},
   "source": [
    "# *Configure The Learning Process*"
   ]
  },
  {
   "cell_type": "code",
   "execution_count": 29,
   "id": "d5446853",
   "metadata": {},
   "outputs": [],
   "source": [
    "model.compile(loss='mean_squared_error',optimizer='adam')"
   ]
  },
  {
   "cell_type": "markdown",
   "id": "26ab7367",
   "metadata": {},
   "source": [
    "# *Train The Model*"
   ]
  },
  {
   "cell_type": "code",
   "execution_count": 30,
   "id": "cdd0749c",
   "metadata": {},
   "outputs": [
    {
     "name": "stdout",
     "output_type": "stream",
     "text": [
      "Epoch 1/50\n",
      "84/84 [==============================] - 8s 32ms/step - loss: 0.0021 - val_loss: 8.0729e-04\n",
      "Epoch 2/50\n",
      "84/84 [==============================] - 1s 17ms/step - loss: 1.3076e-04 - val_loss: 7.9968e-04\n",
      "Epoch 3/50\n",
      "84/84 [==============================] - 1s 17ms/step - loss: 1.3099e-04 - val_loss: 0.0010\n",
      "Epoch 4/50\n",
      "84/84 [==============================] - 1s 17ms/step - loss: 1.2411e-04 - val_loss: 0.0011\n",
      "Epoch 5/50\n",
      "84/84 [==============================] - 2s 18ms/step - loss: 1.2408e-04 - val_loss: 8.6836e-04\n",
      "Epoch 6/50\n",
      "84/84 [==============================] - 2s 19ms/step - loss: 1.2195e-04 - val_loss: 0.0016\n",
      "Epoch 7/50\n",
      "84/84 [==============================] - 2s 18ms/step - loss: 1.2415e-04 - val_loss: 0.0015\n",
      "Epoch 8/50\n",
      "84/84 [==============================] - 1s 18ms/step - loss: 1.2479e-04 - val_loss: 9.2457e-04\n",
      "Epoch 9/50\n",
      "84/84 [==============================] - 1s 18ms/step - loss: 1.1696e-04 - val_loss: 8.7829e-04\n",
      "Epoch 10/50\n",
      "84/84 [==============================] - 2s 20ms/step - loss: 1.1095e-04 - val_loss: 7.4115e-04\n",
      "Epoch 11/50\n",
      "84/84 [==============================] - 2s 20ms/step - loss: 1.1108e-04 - val_loss: 0.0010\n",
      "Epoch 12/50\n",
      "84/84 [==============================] - 2s 20ms/step - loss: 1.0458e-04 - val_loss: 6.9104e-04\n",
      "Epoch 13/50\n",
      "84/84 [==============================] - 2s 20ms/step - loss: 1.3253e-04 - val_loss: 8.0864e-04\n",
      "Epoch 14/50\n",
      "84/84 [==============================] - 2s 21ms/step - loss: 1.0460e-04 - val_loss: 5.8877e-04\n",
      "Epoch 15/50\n",
      "84/84 [==============================] - 2s 22ms/step - loss: 9.7669e-05 - val_loss: 5.6598e-04\n",
      "Epoch 16/50\n",
      "84/84 [==============================] - 2s 22ms/step - loss: 9.0682e-05 - val_loss: 0.0011\n",
      "Epoch 17/50\n",
      "84/84 [==============================] - 2s 21ms/step - loss: 1.0013e-04 - val_loss: 9.1067e-04\n",
      "Epoch 18/50\n",
      "84/84 [==============================] - 2s 20ms/step - loss: 9.2343e-05 - val_loss: 5.0619e-04\n",
      "Epoch 19/50\n",
      "84/84 [==============================] - 2s 20ms/step - loss: 8.6781e-05 - val_loss: 4.4340e-04\n",
      "Epoch 20/50\n",
      "84/84 [==============================] - 2s 20ms/step - loss: 8.6935e-05 - val_loss: 5.9444e-04\n",
      "Epoch 21/50\n",
      "84/84 [==============================] - 2s 20ms/step - loss: 7.9919e-05 - val_loss: 6.0812e-04\n",
      "Epoch 22/50\n",
      "84/84 [==============================] - 2s 20ms/step - loss: 7.8839e-05 - val_loss: 3.9657e-04\n",
      "Epoch 23/50\n",
      "84/84 [==============================] - 2s 20ms/step - loss: 7.5703e-05 - val_loss: 5.0656e-04\n",
      "Epoch 24/50\n",
      "84/84 [==============================] - 2s 22ms/step - loss: 7.0734e-05 - val_loss: 7.1019e-04\n",
      "Epoch 25/50\n",
      "84/84 [==============================] - 2s 22ms/step - loss: 7.3027e-05 - val_loss: 4.2710e-04\n",
      "Epoch 26/50\n",
      "84/84 [==============================] - 2s 21ms/step - loss: 6.9577e-05 - val_loss: 3.8900e-04\n",
      "Epoch 27/50\n",
      "84/84 [==============================] - 2s 20ms/step - loss: 6.6034e-05 - val_loss: 5.0883e-04\n",
      "Epoch 28/50\n",
      "84/84 [==============================] - 2s 20ms/step - loss: 6.5664e-05 - val_loss: 2.8366e-04\n",
      "Epoch 29/50\n",
      "84/84 [==============================] - 2s 20ms/step - loss: 6.0471e-05 - val_loss: 2.8020e-04\n",
      "Epoch 30/50\n",
      "84/84 [==============================] - 2s 20ms/step - loss: 5.9007e-05 - val_loss: 2.6388e-04\n",
      "Epoch 31/50\n",
      "84/84 [==============================] - 2s 20ms/step - loss: 6.2975e-05 - val_loss: 2.5670e-04\n",
      "Epoch 32/50\n",
      "84/84 [==============================] - 2s 20ms/step - loss: 5.6615e-05 - val_loss: 2.5550e-04\n",
      "Epoch 33/50\n",
      "84/84 [==============================] - 2s 21ms/step - loss: 5.8782e-05 - val_loss: 2.8509e-04\n",
      "Epoch 34/50\n",
      "84/84 [==============================] - 2s 22ms/step - loss: 5.8668e-05 - val_loss: 2.4359e-04\n",
      "Epoch 35/50\n",
      "84/84 [==============================] - 2s 22ms/step - loss: 5.0706e-05 - val_loss: 2.9376e-04\n",
      "Epoch 36/50\n",
      "84/84 [==============================] - 2s 22ms/step - loss: 5.6628e-05 - val_loss: 2.6235e-04\n",
      "Epoch 37/50\n",
      "84/84 [==============================] - 2s 22ms/step - loss: 4.5935e-05 - val_loss: 1.9450e-04\n",
      "Epoch 38/50\n",
      "84/84 [==============================] - 2s 21ms/step - loss: 4.4924e-05 - val_loss: 1.8957e-04\n",
      "Epoch 39/50\n",
      "84/84 [==============================] - 2s 20ms/step - loss: 4.1741e-05 - val_loss: 3.8713e-04\n",
      "Epoch 40/50\n",
      "84/84 [==============================] - 2s 20ms/step - loss: 4.3772e-05 - val_loss: 2.1984e-04\n",
      "Epoch 41/50\n",
      "84/84 [==============================] - 2s 20ms/step - loss: 3.9875e-05 - val_loss: 2.5737e-04\n",
      "Epoch 42/50\n",
      "84/84 [==============================] - 2s 20ms/step - loss: 3.8604e-05 - val_loss: 2.4109e-04\n",
      "Epoch 43/50\n",
      "84/84 [==============================] - 2s 22ms/step - loss: 4.0774e-05 - val_loss: 2.7115e-04\n",
      "Epoch 44/50\n",
      "84/84 [==============================] - 2s 22ms/step - loss: 4.3057e-05 - val_loss: 3.3192e-04\n",
      "Epoch 45/50\n",
      "84/84 [==============================] - 2s 20ms/step - loss: 4.1538e-05 - val_loss: 3.6293e-04\n",
      "Epoch 46/50\n",
      "84/84 [==============================] - 2s 20ms/step - loss: 3.5458e-05 - val_loss: 3.1379e-04\n",
      "Epoch 47/50\n",
      "84/84 [==============================] - 2s 20ms/step - loss: 3.5275e-05 - val_loss: 2.4074e-04\n",
      "Epoch 48/50\n",
      "84/84 [==============================] - 2s 20ms/step - loss: 3.3524e-05 - val_loss: 1.9158e-04\n",
      "Epoch 49/50\n",
      "84/84 [==============================] - 2s 21ms/step - loss: 3.7199e-05 - val_loss: 2.2559e-04\n",
      "Epoch 50/50\n",
      "84/84 [==============================] - 2s 20ms/step - loss: 3.3582e-05 - val_loss: 2.1246e-04\n"
     ]
    },
    {
     "data": {
      "text/plain": [
       "<keras.callbacks.History at 0x18e96d0ab60>"
      ]
     },
     "execution_count": 30,
     "metadata": {},
     "output_type": "execute_result"
    }
   ],
   "source": [
    "model.fit(x_train,y_train, validation_data=(x_test,ytest), epochs=50, batch_size=64, verbose=1)"
   ]
  },
  {
   "cell_type": "markdown",
   "id": "4fa8338b",
   "metadata": {},
   "source": [
    "# *Model Evaluation*"
   ]
  },
  {
   "cell_type": "code",
   "execution_count": 31,
   "id": "2abf4dea",
   "metadata": {},
   "outputs": [
    {
     "data": {
      "text/plain": [
       "29.312481782630265"
      ]
     },
     "execution_count": 31,
     "metadata": {},
     "output_type": "execute_result"
    }
   ],
   "source": [
    "\n",
    "train_predict = model.predict(x_train)\n",
    "test_predict = model.predict(x_test)\n",
    "train_predict=scaler.inverse_transform(train_predict) \n",
    "test_predict=scaler.inverse_transform(test_predict)\n",
    "\n",
    "import math \n",
    "from sklearn.metrics import mean_squared_error\n",
    "math.sqrt(mean_squared_error(y_train,train_predict))\n"
   ]
  },
  {
   "cell_type": "markdown",
   "id": "73b1bed6",
   "metadata": {},
   "source": [
    "# *Save The Model*"
   ]
  },
  {
   "cell_type": "code",
   "execution_count": 32,
   "id": "dd56ecf9",
   "metadata": {},
   "outputs": [],
   "source": [
    "from tensorflow.keras.models import load_model"
   ]
  },
  {
   "cell_type": "code",
   "execution_count": 33,
   "id": "5a630938",
   "metadata": {},
   "outputs": [],
   "source": [
    "model.save(\"crude_oil.h5\")"
   ]
  },
  {
   "cell_type": "markdown",
   "id": "c0b1af6b",
   "metadata": {},
   "source": [
    "# *Test The Model*"
   ]
  },
  {
   "cell_type": "code",
   "execution_count": 34,
   "id": "d526ba20",
   "metadata": {},
   "outputs": [
    {
     "data": {
      "image/png": "[encoded data removed]",
      "text/plain": [
       "<Figure size 640x480 with 1 Axes>"
      ]
     },
     "metadata": {},
     "output_type": "display_data"
    }
   ],
   "source": [
    "look_back=10\n",
    "trainpredictPlot = np.empty_like(data_oil)\n",
    "trainpredictPlot[:, :]= np.nan\n",
    "trainpredictPlot[look_back:len(train_predict)+look_back, :] = train_predict\n",
    "\n",
    "testPredictPlot = np.empty_like(data_oil)\n",
    "testPredictPlot[:, :] = np.nan\n",
    "testPredictPlot[len(train_predict)+(look_back*2)+1:len(data_oil)-1, :] = test_predict\n",
    "\n",
    "plt.plot(scaler.inverse_transform(data_oil))\n",
    "plt.plot(trainpredictPlot)\n",
    "plt.plot(testPredictPlot)\n",
    "plt.show()"
   ]
  },
  {
   "cell_type": "code",
   "execution_count": 35,
   "id": "fc81da9f",
   "metadata": {},
   "outputs": [
    {
     "data": {
      "text/plain": [
       "2876"
      ]
     },
     "execution_count": 35,
     "metadata": {},
     "output_type": "execute_result"
    }
   ],
   "source": [
    "len(test_data)"
   ]
  },
  {
   "cell_type": "code",
   "execution_count": 36,
   "id": "f0045e32",
   "metadata": {},
   "outputs": [
    {
     "data": {
      "text/plain": [
       "(1, 10)"
      ]
     },
     "execution_count": 36,
     "metadata": {},
     "output_type": "execute_result"
    }
   ],
   "source": [
    "x_input=test_data[2866:].reshape(1,-1)\n",
    "x_input.shape"
   ]
  },
  {
   "cell_type": "code",
   "execution_count": 37,
   "id": "3f9e3e82",
   "metadata": {},
   "outputs": [],
   "source": [
    "temp_input=list(x_input)\n",
    "temp_input=temp_input[0].tolist()"
   ]
  },
  {
   "cell_type": "code",
   "execution_count": 38,
   "id": "9444215e",
   "metadata": {},
   "outputs": [
    {
     "data": {
      "text/plain": [
       "[0.44172960165852215,\n",
       " 0.48111950244335855,\n",
       " 0.49726047682511476,\n",
       " 0.4679401747371539,\n",
       " 0.4729749740855915,\n",
       " 0.47119798608026064,\n",
       " 0.47341922108692425,\n",
       " 0.4649785280616022,\n",
       " 0.4703835332444839,\n",
       " 0.47149415074781587]"
      ]
     },
     "execution_count": 38,
     "metadata": {},
     "output_type": "execute_result"
    }
   ],
   "source": [
    "temp_input"
   ]
  },
  {
   "cell_type": "code",
   "execution_count": 39,
   "id": "b09121de",
   "metadata": {},
   "outputs": [
    {
     "name": "stdout",
     "output_type": "stream",
     "text": [
      "[0.47145283]\n",
      "11\n",
      "1 day input [0.4811195  0.49726048 0.46794017 0.47297497 0.47119799 0.47341922\n",
      " 0.46497853 0.47038353 0.47149415 0.47145283]\n",
      "1 day output [[0.47168532]]\n",
      "2 day input [0.49726048 0.46794017 0.47297497 0.47119799 0.47341922 0.46497853\n",
      " 0.47038353 0.47149415 0.47145283 0.47168532]\n",
      "2 day output [[0.47124574]]\n",
      "3 day input [0.46794017 0.47297497 0.47119799 0.47341922 0.46497853 0.47038353\n",
      " 0.47149415 0.47145283 0.47168532 0.47124574]\n",
      "3 day output [[0.470152]]\n",
      "4 day input [0.47297497 0.47119799 0.47341922 0.46497853 0.47038353 0.47149415\n",
      " 0.47145283 0.47168532 0.47124574 0.47015199]\n",
      "4 day output [[0.46893212]]\n",
      "5 day input [0.47119799 0.47341922 0.46497853 0.47038353 0.47149415 0.47145283\n",
      " 0.47168532 0.47124574 0.47015199 0.46893212]\n",
      "5 day output [[0.46762222]]\n",
      "6 day input [0.47341922 0.46497853 0.47038353 0.47149415 0.47145283 0.47168532\n",
      " 0.47124574 0.47015199 0.46893212 0.46762222]\n",
      "6 day output [[0.466401]]\n",
      "7 day input [0.46497853 0.47038353 0.47149415 0.47145283 0.47168532 0.47124574\n",
      " 0.47015199 0.46893212 0.46762222 0.46640101]\n",
      "7 day output [[0.46531942]]\n",
      "8 day input [0.47038353 0.47149415 0.47145283 0.47168532 0.47124574 0.47015199\n",
      " 0.46893212 0.46762222 0.46640101 0.46531942]\n",
      "8 day output [[0.4645164]]\n",
      "9 day input [0.47149415 0.47145283 0.47168532 0.47124574 0.47015199 0.46893212\n",
      " 0.46762222 0.46640101 0.46531942 0.4645164 ]\n",
      "9 day output [[0.4638866]]\n"
     ]
    }
   ],
   "source": [
    "lst_output=[]\n",
    "n_steps=10\n",
    "i=0\n",
    "while(i<10):\n",
    "    if(len(temp_input)>10):\n",
    "        #print(temp_input)\n",
    "        x_input=np.array(temp_input[1:]) \n",
    "        print(\"{} day input {}\".format(i,x_input))\n",
    "        x_input=x_input.reshape(1,-1)\n",
    "        x_input = x_input.reshape((1, n_steps, 1)) #print(x_input)\n",
    "        yhat = model.predict(x_input, verbose=0)\n",
    "        print(\"{} day output {}\".format(i,yhat))\n",
    "        temp_input.extend(yhat[0].tolist())\n",
    "        temp_input=temp_input[1:] #print(temp_input)\n",
    "        lst_output.extend(yhat.tolist())\n",
    "        i=i+1\n",
    "    else:\n",
    "        x_input = x_input.reshape((1, n_steps,1))\n",
    "        yhat = model.predict(x_input, verbose=0)\n",
    "        print(yhat[0])\n",
    "        temp_input.extend(yhat[0].tolist()) \n",
    "        print(len(temp_input))\n",
    "        lst_output.extend(yhat.tolist())\n",
    "        i=i+1"
   ]
  },
  {
   "cell_type": "code",
   "execution_count": 40,
   "id": "2c451fa8",
   "metadata": {},
   "outputs": [],
   "source": [
    "day_new=np.arange(1,11) \n",
    "day_pred=np.arange(11,21)"
   ]
  },
  {
   "cell_type": "code",
   "execution_count": 41,
   "id": "5cf49d64",
   "metadata": {},
   "outputs": [
    {
     "data": {
      "text/plain": [
       "8216"
      ]
     },
     "execution_count": 41,
     "metadata": {},
     "output_type": "execute_result"
    }
   ],
   "source": [
    "len(data_oil)"
   ]
  },
  {
   "cell_type": "code",
   "execution_count": 42,
   "id": "74f61e69",
   "metadata": {},
   "outputs": [
    {
     "data": {
      "text/plain": [
       "[<matplotlib.lines.Line2D at 0x18ea4b0b610>]"
      ]
     },
     "execution_count": 42,
     "metadata": {},
     "output_type": "execute_result"
    },
    {
     "data": {
      "image/png": "[encoded data removed]",
      "text/plain": [
       "<Figure size 640x480 with 1 Axes>"
      ]
     },
     "metadata": {},
     "output_type": "display_data"
    }
   ],
   "source": [
    "plt.plot(day_new, scaler.inverse_transform(data_oil[8206:]))\n",
    "plt.plot(day_pred, scaler.inverse_transform(lst_output))"
   ]
  },
  {
   "cell_type": "code",
   "execution_count": 43,
   "id": "26c480fb",
   "metadata": {},
   "outputs": [
    {
     "data": {
      "text/plain": [
       "[<matplotlib.lines.Line2D at 0x18ea4c7bc40>]"
      ]
     },
     "execution_count": 43,
     "metadata": {},
     "output_type": "execute_result"
    },
    {
     "data": {
      "image/png": "[encoded data removed]",
      "text/plain": [
       "<Figure size 640x480 with 1 Axes>"
      ]
     },
     "metadata": {},
     "output_type": "display_data"
    }
   ],
   "source": [
    "df3=data_oil.tolist() \n",
    "df3.extend(lst_output) \n",
    "plt.plot(df3[8100:])"
   ]
  },
  {
   "cell_type": "code",
   "execution_count": 44,
   "id": "8ccaf44f",
   "metadata": {},
   "outputs": [],
   "source": [
    "df3=scaler.inverse_transform(df3).tolist()"
   ]
  },
  {
   "cell_type": "code",
   "execution_count": 45,
   "id": "1b542676",
   "metadata": {},
   "outputs": [
    {
     "data": {
      "text/plain": [
       "[<matplotlib.lines.Line2D at 0x18ea4b39960>]"
      ]
     },
     "execution_count": 45,
     "metadata": {},
     "output_type": "execute_result"
    },
    {
     "data": {
      "image/png": "[encoded data removed]",
      "text/plain": [
       "<Figure size 640x480 with 1 Axes>"
      ]
     },
     "metadata": {},
     "output_type": "display_data"
    }
   ],
   "source": [
    "plt.plot(df3)"
   ]
  },
  {
   "cell_type": "code",
   "execution_count": null,
   "id": "88dc0b09",
   "metadata": {},
   "outputs": [],
   "source": []
  }
 ],
 "metadata": {
  "kernelspec": {
   "display_name": "Python 3 (ipykernel)",
   "language": "python",
   "name": "python3"
  },
  "language_info": {
   "codemirror_mode": {
    "name": "ipython",
    "version": 3
   },
   "file_extension": ".py",
   "mimetype": "text/x-python",
   "name": "python",
   "nbconvert_exporter": "python",
   "pygments_lexer": "ipython3",
   "version": "3.10.10"
  }
 },
 "nbformat": 4,
 "nbformat_minor": 5
}
